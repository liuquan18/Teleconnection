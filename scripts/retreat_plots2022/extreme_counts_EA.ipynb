{
 "cells": [
  {
   "cell_type": "code",
   "execution_count": 1,
   "metadata": {},
   "outputs": [
    {
     "name": "stderr",
     "output_type": "stream",
     "text": [
      "/home/m/m300883/miniconda3/envs/thirdPanel/lib/python3.10/site-packages/scipy/__init__.py:146: UserWarning: A NumPy version >=1.16.5 and <1.23.0 is required for this version of SciPy (detected version 1.23.1\n",
      "  warnings.warn(f\"A NumPy version >={np_minversion} and <{np_maxversion}\"\n"
     ]
    }
   ],
   "source": [
    "import numpy as np\n",
    "import pandas as pd\n",
    "from pyparsing import line\n",
    "import xarray as xr\n",
    "import matplotlib.pyplot as plt\n",
    "import seaborn as sns\n",
    "import matplotlib.patches as mpatches\n",
    "import scipy.stats as stats"
   ]
  },
  {
   "cell_type": "code",
   "execution_count": 2,
   "metadata": {},
   "outputs": [],
   "source": [
    "import src.Teleconnection.spatial_pattern as ssp\n",
    "import src.Teleconnection.pattern_statistic as sps\n",
    "import src.Teleconnection.index_statistic as sis\n",
    "import src.plots.eof_plots as sept\n",
    "import src.Teleconnection.temporal_index as sti"
   ]
  },
  {
   "cell_type": "code",
   "execution_count": 3,
   "metadata": {},
   "outputs": [
    {
     "data": {
      "text/plain": [
       "<module 'src.Teleconnection.pattern_statistic' from '/work/mh0033/m300883/3rdPanel/src/Teleconnection/pattern_statistic.py'>"
      ]
     },
     "execution_count": 3,
     "metadata": {},
     "output_type": "execute_result"
    }
   ],
   "source": [
    "import importlib\n",
    "importlib.reload(sis)\n",
    "importlib.reload(sti)\n",
    "importlib.reload(ssp)\n",
    "importlib.reload(sept)\n",
    "importlib.reload(sps)"
   ]
  },
  {
   "cell_type": "markdown",
   "metadata": {},
   "source": [
    "# Data"
   ]
  },
  {
   "cell_type": "code",
   "execution_count": 4,
   "metadata": {},
   "outputs": [],
   "source": [
    "\n",
    "all_all_dep = xr.open_dataset('/work/mh0033/m300883/3rdPanel/data/indexDiffPattern/all_all_dep.nc').pc\n",
    "all_first_dep = xr.open_dataset('/work/mh0033/m300883/3rdPanel/data/indexDiffPattern/all_frist_dep.nc').pc\n",
    "all_last_dep = xr.open_dataset('/work/mh0033/m300883/3rdPanel/data/indexDiffPattern/all_last_dep.nc').pc\n"
   ]
  },
  {
   "cell_type": "markdown",
   "metadata": {},
   "source": [
    "# extreme counts"
   ]
  },
  {
   "cell_type": "code",
   "execution_count": 10,
   "metadata": {},
   "outputs": [],
   "source": [
    "dep_first10_exc,dep_last10_exc = sis.extreme_count([all_all_dep,all_first_dep,all_last_dep])"
   ]
  },
  {
   "cell_type": "code",
   "execution_count": 12,
   "metadata": {},
   "outputs": [],
   "source": [
    "dep_extc = sis.extr_count_df(dep_first10_exc,dep_last10_exc)"
   ]
  },
  {
   "cell_type": "code",
   "execution_count": 13,
   "metadata": {},
   "outputs": [
    {
     "data": {
      "text/html": [
       "<div>\n",
       "<style scoped>\n",
       "    .dataframe tbody tr th:only-of-type {\n",
       "        vertical-align: middle;\n",
       "    }\n",
       "\n",
       "    .dataframe tbody tr th {\n",
       "        vertical-align: top;\n",
       "    }\n",
       "\n",
       "    .dataframe thead th {\n",
       "        text-align: right;\n",
       "    }\n",
       "</style>\n",
       "<table border=\"1\" class=\"dataframe\">\n",
       "  <thead>\n",
       "    <tr style=\"text-align: right;\">\n",
       "      <th></th>\n",
       "      <th></th>\n",
       "      <th></th>\n",
       "      <th>pattern</th>\n",
       "      <th>period</th>\n",
       "      <th>extreme_counts</th>\n",
       "    </tr>\n",
       "    <tr>\n",
       "      <th>extr_type</th>\n",
       "      <th>mode</th>\n",
       "      <th>hlayers</th>\n",
       "      <th></th>\n",
       "      <th></th>\n",
       "      <th></th>\n",
       "    </tr>\n",
       "  </thead>\n",
       "  <tbody>\n",
       "    <tr>\n",
       "      <th rowspan=\"5\" valign=\"top\">pos</th>\n",
       "      <th rowspan=\"5\" valign=\"top\">NAO</th>\n",
       "      <th>20000.0</th>\n",
       "      <td>all</td>\n",
       "      <td>first10</td>\n",
       "      <td>18</td>\n",
       "    </tr>\n",
       "    <tr>\n",
       "      <th>20000.0</th>\n",
       "      <td>all</td>\n",
       "      <td>last10</td>\n",
       "      <td>33</td>\n",
       "    </tr>\n",
       "    <tr>\n",
       "      <th>20000.0</th>\n",
       "      <td>first</td>\n",
       "      <td>first10</td>\n",
       "      <td>11</td>\n",
       "    </tr>\n",
       "    <tr>\n",
       "      <th>20000.0</th>\n",
       "      <td>first</td>\n",
       "      <td>last10</td>\n",
       "      <td>20</td>\n",
       "    </tr>\n",
       "    <tr>\n",
       "      <th>20000.0</th>\n",
       "      <td>last</td>\n",
       "      <td>first10</td>\n",
       "      <td>27</td>\n",
       "    </tr>\n",
       "    <tr>\n",
       "      <th>...</th>\n",
       "      <th>...</th>\n",
       "      <th>...</th>\n",
       "      <td>...</td>\n",
       "      <td>...</td>\n",
       "      <td>...</td>\n",
       "    </tr>\n",
       "    <tr>\n",
       "      <th rowspan=\"5\" valign=\"top\">neg</th>\n",
       "      <th rowspan=\"5\" valign=\"top\">EA</th>\n",
       "      <th>100000.0</th>\n",
       "      <td>all</td>\n",
       "      <td>last10</td>\n",
       "      <td>30</td>\n",
       "    </tr>\n",
       "    <tr>\n",
       "      <th>100000.0</th>\n",
       "      <td>first</td>\n",
       "      <td>first10</td>\n",
       "      <td>14</td>\n",
       "    </tr>\n",
       "    <tr>\n",
       "      <th>100000.0</th>\n",
       "      <td>first</td>\n",
       "      <td>last10</td>\n",
       "      <td>16</td>\n",
       "    </tr>\n",
       "    <tr>\n",
       "      <th>100000.0</th>\n",
       "      <td>last</td>\n",
       "      <td>first10</td>\n",
       "      <td>30</td>\n",
       "    </tr>\n",
       "    <tr>\n",
       "      <th>100000.0</th>\n",
       "      <td>last</td>\n",
       "      <td>last10</td>\n",
       "      <td>36</td>\n",
       "    </tr>\n",
       "  </tbody>\n",
       "</table>\n",
       "<p>264 rows × 3 columns</p>\n",
       "</div>"
      ],
      "text/plain": [
       "                        pattern   period  extreme_counts\n",
       "extr_type mode hlayers                                  \n",
       "pos       NAO  20000.0      all  first10              18\n",
       "               20000.0      all   last10              33\n",
       "               20000.0    first  first10              11\n",
       "               20000.0    first   last10              20\n",
       "               20000.0     last  first10              27\n",
       "...                         ...      ...             ...\n",
       "neg       EA   100000.0     all   last10              30\n",
       "               100000.0   first  first10              14\n",
       "               100000.0   first   last10              16\n",
       "               100000.0    last  first10              30\n",
       "               100000.0    last   last10              36\n",
       "\n",
       "[264 rows x 3 columns]"
      ]
     },
     "execution_count": 13,
     "metadata": {},
     "output_type": "execute_result"
    }
   ],
   "source": [
    "dep_extc"
   ]
  },
  {
   "cell_type": "code",
   "execution_count": 14,
   "metadata": {},
   "outputs": [],
   "source": [
    "ea = dep_extc.xs('EA',level='mode')"
   ]
  },
  {
   "cell_type": "code",
   "execution_count": null,
   "metadata": {},
   "outputs": [],
   "source": []
  },
  {
   "cell_type": "code",
   "execution_count": null,
   "metadata": {},
   "outputs": [],
   "source": []
  },
  {
   "cell_type": "markdown",
   "metadata": {},
   "source": [
    "# first and last10"
   ]
  },
  {
   "cell_type": "code",
   "execution_count": 30,
   "metadata": {},
   "outputs": [],
   "source": [
    "ea_first = ea[(ea['pattern']=='first' )& (ea['period']=='first10')]"
   ]
  },
  {
   "cell_type": "code",
   "execution_count": 28,
   "metadata": {},
   "outputs": [],
   "source": [
    "ea_last = ea[(ea['pattern']=='last' )& (ea['period']=='last10')]"
   ]
  },
  {
   "cell_type": "code",
   "execution_count": 32,
   "metadata": {},
   "outputs": [
    {
     "data": {
      "text/html": [
       "<div>\n",
       "<style scoped>\n",
       "    .dataframe tbody tr th:only-of-type {\n",
       "        vertical-align: middle;\n",
       "    }\n",
       "\n",
       "    .dataframe tbody tr th {\n",
       "        vertical-align: top;\n",
       "    }\n",
       "\n",
       "    .dataframe thead th {\n",
       "        text-align: right;\n",
       "    }\n",
       "</style>\n",
       "<table border=\"1\" class=\"dataframe\">\n",
       "  <thead>\n",
       "    <tr style=\"text-align: right;\">\n",
       "      <th></th>\n",
       "      <th></th>\n",
       "      <th>pattern</th>\n",
       "      <th>period</th>\n",
       "      <th>extreme_counts</th>\n",
       "    </tr>\n",
       "    <tr>\n",
       "      <th>extr_type</th>\n",
       "      <th>hlayers</th>\n",
       "      <th></th>\n",
       "      <th></th>\n",
       "      <th></th>\n",
       "    </tr>\n",
       "  </thead>\n",
       "  <tbody>\n",
       "    <tr>\n",
       "      <th rowspan=\"11\" valign=\"top\">pos</th>\n",
       "      <th>20000.0</th>\n",
       "      <td>first</td>\n",
       "      <td>first10</td>\n",
       "      <td>12</td>\n",
       "    </tr>\n",
       "    <tr>\n",
       "      <th>25000.0</th>\n",
       "      <td>first</td>\n",
       "      <td>first10</td>\n",
       "      <td>12</td>\n",
       "    </tr>\n",
       "    <tr>\n",
       "      <th>30000.0</th>\n",
       "      <td>first</td>\n",
       "      <td>first10</td>\n",
       "      <td>14</td>\n",
       "    </tr>\n",
       "    <tr>\n",
       "      <th>40000.0</th>\n",
       "      <td>first</td>\n",
       "      <td>first10</td>\n",
       "      <td>16</td>\n",
       "    </tr>\n",
       "    <tr>\n",
       "      <th>50000.0</th>\n",
       "      <td>first</td>\n",
       "      <td>first10</td>\n",
       "      <td>20</td>\n",
       "    </tr>\n",
       "    <tr>\n",
       "      <th>60000.0</th>\n",
       "      <td>first</td>\n",
       "      <td>first10</td>\n",
       "      <td>21</td>\n",
       "    </tr>\n",
       "    <tr>\n",
       "      <th>70000.0</th>\n",
       "      <td>first</td>\n",
       "      <td>first10</td>\n",
       "      <td>19</td>\n",
       "    </tr>\n",
       "    <tr>\n",
       "      <th>77500.0</th>\n",
       "      <td>first</td>\n",
       "      <td>first10</td>\n",
       "      <td>19</td>\n",
       "    </tr>\n",
       "    <tr>\n",
       "      <th>85000.0</th>\n",
       "      <td>first</td>\n",
       "      <td>first10</td>\n",
       "      <td>20</td>\n",
       "    </tr>\n",
       "    <tr>\n",
       "      <th>92500.0</th>\n",
       "      <td>first</td>\n",
       "      <td>first10</td>\n",
       "      <td>17</td>\n",
       "    </tr>\n",
       "    <tr>\n",
       "      <th>100000.0</th>\n",
       "      <td>first</td>\n",
       "      <td>first10</td>\n",
       "      <td>16</td>\n",
       "    </tr>\n",
       "    <tr>\n",
       "      <th rowspan=\"11\" valign=\"top\">neg</th>\n",
       "      <th>20000.0</th>\n",
       "      <td>first</td>\n",
       "      <td>first10</td>\n",
       "      <td>4</td>\n",
       "    </tr>\n",
       "    <tr>\n",
       "      <th>25000.0</th>\n",
       "      <td>first</td>\n",
       "      <td>first10</td>\n",
       "      <td>6</td>\n",
       "    </tr>\n",
       "    <tr>\n",
       "      <th>30000.0</th>\n",
       "      <td>first</td>\n",
       "      <td>first10</td>\n",
       "      <td>7</td>\n",
       "    </tr>\n",
       "    <tr>\n",
       "      <th>40000.0</th>\n",
       "      <td>first</td>\n",
       "      <td>first10</td>\n",
       "      <td>8</td>\n",
       "    </tr>\n",
       "    <tr>\n",
       "      <th>50000.0</th>\n",
       "      <td>first</td>\n",
       "      <td>first10</td>\n",
       "      <td>9</td>\n",
       "    </tr>\n",
       "    <tr>\n",
       "      <th>60000.0</th>\n",
       "      <td>first</td>\n",
       "      <td>first10</td>\n",
       "      <td>11</td>\n",
       "    </tr>\n",
       "    <tr>\n",
       "      <th>70000.0</th>\n",
       "      <td>first</td>\n",
       "      <td>first10</td>\n",
       "      <td>13</td>\n",
       "    </tr>\n",
       "    <tr>\n",
       "      <th>77500.0</th>\n",
       "      <td>first</td>\n",
       "      <td>first10</td>\n",
       "      <td>14</td>\n",
       "    </tr>\n",
       "    <tr>\n",
       "      <th>85000.0</th>\n",
       "      <td>first</td>\n",
       "      <td>first10</td>\n",
       "      <td>14</td>\n",
       "    </tr>\n",
       "    <tr>\n",
       "      <th>92500.0</th>\n",
       "      <td>first</td>\n",
       "      <td>first10</td>\n",
       "      <td>16</td>\n",
       "    </tr>\n",
       "    <tr>\n",
       "      <th>100000.0</th>\n",
       "      <td>first</td>\n",
       "      <td>first10</td>\n",
       "      <td>14</td>\n",
       "    </tr>\n",
       "  </tbody>\n",
       "</table>\n",
       "</div>"
      ],
      "text/plain": [
       "                   pattern   period  extreme_counts\n",
       "extr_type hlayers                                  \n",
       "pos       20000.0    first  first10              12\n",
       "          25000.0    first  first10              12\n",
       "          30000.0    first  first10              14\n",
       "          40000.0    first  first10              16\n",
       "          50000.0    first  first10              20\n",
       "          60000.0    first  first10              21\n",
       "          70000.0    first  first10              19\n",
       "          77500.0    first  first10              19\n",
       "          85000.0    first  first10              20\n",
       "          92500.0    first  first10              17\n",
       "          100000.0   first  first10              16\n",
       "neg       20000.0    first  first10               4\n",
       "          25000.0    first  first10               6\n",
       "          30000.0    first  first10               7\n",
       "          40000.0    first  first10               8\n",
       "          50000.0    first  first10               9\n",
       "          60000.0    first  first10              11\n",
       "          70000.0    first  first10              13\n",
       "          77500.0    first  first10              14\n",
       "          85000.0    first  first10              14\n",
       "          92500.0    first  first10              16\n",
       "          100000.0   first  first10              14"
      ]
     },
     "execution_count": 32,
     "metadata": {},
     "output_type": "execute_result"
    }
   ],
   "source": [
    "ea_first"
   ]
  },
  {
   "cell_type": "code",
   "execution_count": null,
   "metadata": {},
   "outputs": [],
   "source": []
  }
 ],
 "metadata": {
  "kernelspec": {
   "display_name": "Python 3.10.4 ('thirdPanel')",
   "language": "python",
   "name": "python3"
  },
  "language_info": {
   "codemirror_mode": {
    "name": "ipython",
    "version": 3
   },
   "file_extension": ".py",
   "mimetype": "text/x-python",
   "name": "python",
   "nbconvert_exporter": "python",
   "pygments_lexer": "ipython3",
   "version": "3.10.4"
  },
  "orig_nbformat": 4,
  "vscode": {
   "interpreter": {
    "hash": "cc11d7b4860a40e97a40360d85e5991806d39b61f55685ca352e4d200b89c788"
   }
  }
 },
 "nbformat": 4,
 "nbformat_minor": 2
}
