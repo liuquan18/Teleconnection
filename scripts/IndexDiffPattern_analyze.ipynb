{
 "cells": [
  {
   "cell_type": "markdown",
   "metadata": {},
   "source": [
    "# Imports"
   ]
  },
  {
   "cell_type": "code",
   "execution_count": 1,
   "metadata": {},
   "outputs": [],
   "source": [
    "import numpy as np\n",
    "import pandas as pd\n",
    "from pyparsing import line\n",
    "import xarray as xr\n",
    "import matplotlib.pyplot as plt\n",
    "import seaborn as sns\n",
    "import matplotlib.patches as mpatches\n",
    "import scipy.stats as stats"
   ]
  },
  {
   "cell_type": "markdown",
   "metadata": {},
   "source": [
    "my module load"
   ]
  },
  {
   "cell_type": "code",
   "execution_count": 2,
   "metadata": {},
   "outputs": [
    {
     "data": {
      "text/plain": [
       "<module 'src.eof_plots' from '/work/mh0033/m300883/3rdPanel/scripts/../src/eof_plots.py'>"
      ]
     },
     "execution_count": 2,
     "metadata": {},
     "output_type": "execute_result"
    }
   ],
   "source": [
    "import sys\n",
    "sys.path.append(\"..\")\n",
    "import src.spatial_pattern as ssp\n",
    "import src.pattern_statistic as sps\n",
    "import src.index_statistic as sis\n",
    "import src.eof_plots as sept\n",
    "\n",
    "import importlib\n",
    "importlib.reload(ssp) # after changed the source code\n",
    "importlib.reload(sps)\n",
    "importlib.reload(sis)\n",
    "importlib.reload(sept)"
   ]
  },
  {
   "cell_type": "markdown",
   "metadata": {},
   "source": [
    "# IndexDiffPattern data load"
   ]
  },
  {
   "cell_type": "code",
   "execution_count": null,
   "metadata": {},
   "outputs": [],
   "source": [
    "all_all_ind = xr.open_dataset('/work/mh0033/m300883/3rdPanel/data/index_diff_pattern/all_all_ind.nc')\n",
    "all_first_ind = xr.open_dataset('/work/mh0033/m300883/3rdPanel/data/index_diff_pattern/all_first_ind.nc')\n",
    "all_last_ind = xr.open_dataset('/work/mh0033/m300883/3rdPanel/data/index_diff_pattern/all_last_ind.nc')\n",
    "\n",
    "all_all_dep = xr.open_dataset('/work/mh0033/m300883/3rdPanel/data/index_diff_pattern/all_all_dep.nc')\n",
    "all_first_dep = xr.open_dataset('/work/mh0033/m300883/3rdPanel/data/index_diff_pattern/all_frist_dep.nc')\n",
    "all_last_dep = xr.open_dataset('/work/mh0033/m300883/3rdPanel/data/index_diff_pattern/all_last_dep.nc')\n"
   ]
  },
  {
   "cell_type": "code",
   "execution_count": null,
   "metadata": {},
   "outputs": [],
   "source": []
  }
 ],
 "metadata": {
  "kernelspec": {
   "display_name": "Python 3.9.9 64-bit ('mambaforge-4.11.0-0-Linux-x86_64-sobz6z')",
   "language": "python",
   "name": "python3"
  },
  "language_info": {
   "codemirror_mode": {
    "name": "ipython",
    "version": 3
   },
   "file_extension": ".py",
   "mimetype": "text/x-python",
   "name": "python",
   "nbconvert_exporter": "python",
   "pygments_lexer": "ipython3",
   "version": "3.9.9"
  },
  "orig_nbformat": 4,
  "vscode": {
   "interpreter": {
    "hash": "53f234d9424ea9c4142cd281232c2e587b7a4b132111aa2c7ba0387cf99fe021"
   }
  }
 },
 "nbformat": 4,
 "nbformat_minor": 2
}
