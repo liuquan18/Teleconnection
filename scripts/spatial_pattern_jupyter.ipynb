{
 "cells": [
  {
   "cell_type": "code",
   "execution_count": 1,
   "metadata": {},
   "outputs": [],
   "source": [
    "import xarray as xr\n",
    "import numpy as np\n",
    "import matplotlib.pyplot as plt\n",
    "import seaborn as sns\n",
    "import cartopy.crs as ccrs"
   ]
  },
  {
   "cell_type": "markdown",
   "metadata": {},
   "source": [
    "# import module"
   ]
  },
  {
   "cell_type": "code",
   "execution_count": 2,
   "metadata": {},
   "outputs": [
    {
     "data": {
      "text/plain": [
       "<module 'src.spatial_pattern' from '/work/mh0033/m300883/3rdPanel/scripts/../src/spatial_pattern.py'>"
      ]
     },
     "execution_count": 2,
     "metadata": {},
     "output_type": "execute_result"
    }
   ],
   "source": [
    "import sys\n",
    "sys.path.append(\"..\")\n",
    "import src.pattern_statistic as ps\n",
    "import src.eof_plots as ept\n",
    "import src.spatial_pattern as sp\n",
    "\n",
    "import importlib\n",
    "importlib.reload(ps) # after changed the source code\n",
    "importlib.reload(ept)\n",
    "importlib.reload(sp)"
   ]
  },
  {
   "cell_type": "markdown",
   "metadata": {},
   "source": [
    "# data load and process"
   ]
  },
  {
   "cell_type": "markdown",
   "metadata": {},
   "source": [
    " data load"
   ]
  },
  {
   "cell_type": "code",
   "execution_count": 4,
   "metadata": {},
   "outputs": [],
   "source": [
    "# %%\n",
    "allens = xr.open_dataset(\"/work/mh0033/m300883/transition/gr19/gphSeason/allens_season_time.nc\")\n",
    "#%% split ens\n",
    "splitens = sp.split_ens(allens)\n",
    "\n",
    "#%% demean ens-mean\n",
    "demean = splitens-splitens.mean(dim = 'ens')\n",
    "\n",
    "#%% select traposphere\n",
    "trop = demean.sel(hlayers = slice(20000,100000))"
   ]
  },
  {
   "cell_type": "markdown",
   "metadata": {},
   "source": [
    "eof decompose"
   ]
  },
  {
   "cell_type": "code",
   "execution_count": 5,
   "metadata": {},
   "outputs": [
    {
     "data": {
      "application/vnd.jupyter.widget-view+json": {
       "model_id": "6132e1e878b14ef2b2823593686158ae",
       "version_major": 2,
       "version_minor": 0
      },
      "text/plain": [
       "  0%|          | 0/11 [00:00<?, ?it/s]"
      ]
     },
     "metadata": {},
     "output_type": "display_data"
    },
    {
     "data": {
      "application/vnd.jupyter.widget-view+json": {
       "model_id": "216d0cec1f9b4c338dc41a10d4435b53",
       "version_major": 2,
       "version_minor": 0
      },
      "text/plain": [
       "  0%|          | 0/2 [00:00<?, ?it/s]"
      ]
     },
     "metadata": {},
     "output_type": "display_data"
    },
    {
     "data": {
      "application/vnd.jupyter.widget-view+json": {
       "model_id": "8fabda05785c4aa4a5b285969ca3bfff",
       "version_major": 2,
       "version_minor": 0
      },
      "text/plain": [
       "  0%|          | 0/2 [00:00<?, ?it/s]"
      ]
     },
     "metadata": {},
     "output_type": "display_data"
    },
    {
     "data": {
      "application/vnd.jupyter.widget-view+json": {
       "model_id": "940a940b9a414faaa63a94c4b3e251b1",
       "version_major": 2,
       "version_minor": 0
      },
      "text/plain": [
       "  0%|          | 0/2 [00:00<?, ?it/s]"
      ]
     },
     "metadata": {},
     "output_type": "display_data"
    },
    {
     "data": {
      "application/vnd.jupyter.widget-view+json": {
       "model_id": "ae2b43ad78094919a1bfeaa7509255e2",
       "version_major": 2,
       "version_minor": 0
      },
      "text/plain": [
       "  0%|          | 0/2 [00:00<?, ?it/s]"
      ]
     },
     "metadata": {},
     "output_type": "display_data"
    },
    {
     "data": {
      "application/vnd.jupyter.widget-view+json": {
       "model_id": "d686c251e6d146c78f0c616db4aa93b8",
       "version_major": 2,
       "version_minor": 0
      },
      "text/plain": [
       "  0%|          | 0/2 [00:00<?, ?it/s]"
      ]
     },
     "metadata": {},
     "output_type": "display_data"
    },
    {
     "data": {
      "application/vnd.jupyter.widget-view+json": {
       "model_id": "96e0701137e14bcfa2d222acc9959d2b",
       "version_major": 2,
       "version_minor": 0
      },
      "text/plain": [
       "  0%|          | 0/2 [00:00<?, ?it/s]"
      ]
     },
     "metadata": {},
     "output_type": "display_data"
    },
    {
     "data": {
      "application/vnd.jupyter.widget-view+json": {
       "model_id": "279bfc37b9c94207a5137fd2c9464982",
       "version_major": 2,
       "version_minor": 0
      },
      "text/plain": [
       "  0%|          | 0/2 [00:00<?, ?it/s]"
      ]
     },
     "metadata": {},
     "output_type": "display_data"
    },
    {
     "data": {
      "application/vnd.jupyter.widget-view+json": {
       "model_id": "fd7df697bafc4fd38b59e68a3a9021bc",
       "version_major": 2,
       "version_minor": 0
      },
      "text/plain": [
       "  0%|          | 0/2 [00:00<?, ?it/s]"
      ]
     },
     "metadata": {},
     "output_type": "display_data"
    },
    {
     "data": {
      "application/vnd.jupyter.widget-view+json": {
       "model_id": "0d6b9a8423644b17af6c3bcda416717c",
       "version_major": 2,
       "version_minor": 0
      },
      "text/plain": [
       "  0%|          | 0/2 [00:00<?, ?it/s]"
      ]
     },
     "metadata": {},
     "output_type": "display_data"
    },
    {
     "data": {
      "application/vnd.jupyter.widget-view+json": {
       "model_id": "527cbfc195d6464f806be817c0947a5d",
       "version_major": 2,
       "version_minor": 0
      },
      "text/plain": [
       "  0%|          | 0/2 [00:00<?, ?it/s]"
      ]
     },
     "metadata": {},
     "output_type": "display_data"
    },
    {
     "data": {
      "application/vnd.jupyter.widget-view+json": {
       "model_id": "5c560f0145fa4cbeb776bb525e5dc8d8",
       "version_major": 2,
       "version_minor": 0
      },
      "text/plain": [
       "  0%|          | 0/2 [00:00<?, ?it/s]"
      ]
     },
     "metadata": {},
     "output_type": "display_data"
    }
   ],
   "source": [
    "yearly_eof,_,_ = sp.season_eof(trop.var156,nmode=2,method =\"rolling_eof\",\n",
    "window=10,fixed_pattern='first',return_full_eof= False,independent = True,standard=True)"
   ]
  },
  {
   "cell_type": "code",
   "execution_count": 6,
   "metadata": {},
   "outputs": [
    {
     "data": {
      "application/vnd.jupyter.widget-view+json": {
       "model_id": "d05ce0a6cda0474fbd60f48b811584d3",
       "version_major": 2,
       "version_minor": 0
      },
      "text/plain": [
       "  0%|          | 0/11 [00:00<?, ?it/s]"
      ]
     },
     "metadata": {},
     "output_type": "display_data"
    }
   ],
   "source": [
    "eof_all,_,_ = sp.season_eof(trop.var156,nmode=2,method =\"eof\",independent = True)"
   ]
  },
  {
   "cell_type": "markdown",
   "metadata": {},
   "source": [
    "# Plot"
   ]
  },
  {
   "cell_type": "code",
   "execution_count": 12,
   "metadata": {},
   "outputs": [],
   "source": [
    "all_eof = eof_all\n",
    "first_eof = yearly_eof.isel(time = 0)\n",
    "last_eof = yearly_eof.isel(time = -1)"
   ]
  },
  {
   "cell_type": "code",
   "execution_count": 16,
   "metadata": {},
   "outputs": [],
   "source": [
    "# %% to lon-height\n",
    "all_lon_height_ea = ps.lon_height(all_eof,mode='EA')\n",
    "first10_lon_height_ea = ps.lon_height(first_eof,mode='EA')\n",
    "last10_lon_height_ea = ps.lon_height(last_eof,mode='EA')"
   ]
  },
  {
   "cell_type": "code",
   "execution_count": 35,
   "metadata": {},
   "outputs": [
    {
     "data": {
      "image/png": "[encoded data removed]",
      "text/plain": [
       "<Figure size 1200x450 with 4 Axes>"
      ]
     },
     "metadata": {
      "needs_background": "light"
     },
     "output_type": "display_data"
    }
   ],
   "source": [
    "from sklearn.cross_decomposition import PLSCanonical\n",
    "\n",
    "\n",
    "fig,axes = plt.subplots(1,3,figsize = (8,3),dpi = 150,sharey=True)\n",
    "\n",
    "levels = np.arange(-0.5,0.51,0.1)\n",
    "\n",
    "first10_lon_height_ea.plot.contourf(x = 'lon',y = 'hlayers',ax = axes[0],\n",
    "ylim = (1000,200),levels = levels,extend = 'both',add_colorbar = False)\n",
    "all_lon_height_ea.plot.contourf(x = 'lon',y = 'hlayers',ax = axes[1],\n",
    "ylim = (1000,200),levels = levels,extend = 'both',add_colorbar = False)\n",
    "im = last10_lon_height_ea.plot.contourf(x = 'lon',y = 'hlayers',ax = axes[2],\n",
    "ylim = (1000,200),levels = levels,extend = 'both',add_colorbar = False)\n",
    "\n",
    "axes[0].set_title(\"first\")\n",
    "axes[1].set_title(\"all\")\n",
    "axes[2].set_title(\"last\")\n",
    "\n",
    "axes[0].set_ylabel('plev/hpa')\n",
    "axes[1].set_ylabel(None)\n",
    "axes[2].set_ylabel(None)\n",
    "\n",
    "plt.subplots_adjust(right = 0.85)\n",
    "cbar_ax = fig.add_axes([0.9, 0.125, 0.02, 0.76])\n",
    "fig.colorbar(im, cax=cbar_ax,label = 'eofs')\n",
    "\n",
    "plt.show()\n"
   ]
  },
  {
   "cell_type": "code",
   "execution_count": null,
   "metadata": {},
   "outputs": [],
   "source": []
  }
 ],
 "metadata": {
  "kernelspec": {
   "display_name": "Python 3.9.9 64-bit ('mambaforge-4.11.0-0-Linux-x86_64-sobz6z')",
   "language": "python",
   "name": "python3"
  },
  "language_info": {
   "codemirror_mode": {
    "name": "ipython",
    "version": 3
   },
   "file_extension": ".py",
   "mimetype": "text/x-python",
   "name": "python",
   "nbconvert_exporter": "python",
   "pygments_lexer": "ipython3",
   "version": "3.9.9"
  },
  "orig_nbformat": 4,
  "vscode": {
   "interpreter": {
    "hash": "53f234d9424ea9c4142cd281232c2e587b7a4b132111aa2c7ba0387cf99fe021"
   }
  }
 },
 "nbformat": 4,
 "nbformat_minor": 2
}
