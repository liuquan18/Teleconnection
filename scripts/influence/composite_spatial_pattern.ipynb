{
 "cells": [
  {
   "cell_type": "code",
   "execution_count": 16,
   "metadata": {},
   "outputs": [],
   "source": [
    "import xarray as xr\n",
    "import src.Teleconnection.tools as tools\n",
    "import src.composite.field_composite as composite"
   ]
  },
  {
   "cell_type": "markdown",
   "metadata": {},
   "source": [
    "# Read Data"
   ]
  },
  {
   "cell_type": "markdown",
   "metadata": {},
   "source": [
    "The data to be averaged"
   ]
  },
  {
   "cell_type": "code",
   "execution_count": 17,
   "metadata": {},
   "outputs": [
    {
     "name": "stdout",
     "output_type": "stream",
     "text": [
      "reading data...\n"
     ]
    }
   ],
   "source": [
    "# %%\n",
    "print(\"reading data...\")\n",
    "# data\n",
    "allens = xr.open_dataset(\n",
    "    \"/work/mh0033/m300883/transition/gr19/gphSeason/allens_season_time.nc\"\n",
    ")\n",
    "# split ens\n",
    "splitens = tools.split_ens(allens)\n",
    "\n",
    "# demean ens-mean\n",
    "demean = splitens - splitens.mean(dim=\"ens\")\n",
    "\n",
    "# select traposphere\n",
    "trop = demean.sel(hlayers=slice(20000, 100000))\n",
    "\n",
    "trop = trop.var156\n"
   ]
  },
  {
   "cell_type": "markdown",
   "metadata": {},
   "source": [
    "The index as the conditions"
   ]
  },
  {
   "cell_type": "code",
   "execution_count": 18,
   "metadata": {},
   "outputs": [],
   "source": [
    "first_index = xr.open_dataset(\"/work/mh0033/m300883/3rdPanel/data/allPattern/dep/all_pattern/first10_all_whole.nc\").pc"
   ]
  },
  {
   "cell_type": "code",
   "execution_count": 19,
   "metadata": {},
   "outputs": [],
   "source": [
    "last_index = xr.open_dataset(\"/work/mh0033/m300883/3rdPanel/data/allPattern/dep/all_pattern/last10_all_whole.nc\").pc"
   ]
  },
  {
   "cell_type": "markdown",
   "metadata": {},
   "source": [
    "## Composite "
   ]
  },
  {
   "cell_type": "code",
   "execution_count": 20,
   "metadata": {},
   "outputs": [],
   "source": [
    "first_sptial_pattern = composite.Tel_field_composite(first_index,trop)"
   ]
  },
  {
   "cell_type": "code",
   "execution_count": 21,
   "metadata": {},
   "outputs": [],
   "source": [
    "last_sptial_pattern = composite.Tel_field_composite(last_index,trop)"
   ]
  },
  {
   "cell_type": "markdown",
   "metadata": {},
   "source": [
    "## show spatial maps"
   ]
  },
  {
   "cell_type": "code",
   "execution_count": null,
   "metadata": {},
   "outputs": [],
   "source": []
  }
 ],
 "metadata": {
  "kernelspec": {
   "display_name": "Python 3.10.6 ('thirdPanel')",
   "language": "python",
   "name": "python3"
  },
  "language_info": {
   "codemirror_mode": {
    "name": "ipython",
    "version": 3
   },
   "file_extension": ".py",
   "mimetype": "text/x-python",
   "name": "python",
   "nbconvert_exporter": "python",
   "pygments_lexer": "ipython3",
   "version": "3.10.6"
  },
  "orig_nbformat": 4,
  "vscode": {
   "interpreter": {
    "hash": "cc11d7b4860a40e97a40360d85e5991806d39b61f55685ca352e4d200b89c788"
   }
  }
 },
 "nbformat": 4,
 "nbformat_minor": 2
}
