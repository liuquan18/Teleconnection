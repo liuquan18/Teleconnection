{
 "cells": [
  {
   "cell_type": "code",
   "execution_count": null,
   "metadata": {},
   "outputs": [],
   "source": []
  }
 ],
 "metadata": {
  "kernelspec": {
   "display_name": "Python 3.9.9 64-bit ('mambaforge-4.11.0-0-Linux-x86_64-sobz6z')",
   "language": "python",
   "name": "python3"
  },
  "language_info": {
   "name": "python",
   "version": "3.9.9"
  },
  "orig_nbformat": 4,
  "vscode": {
   "interpreter": {
    "hash": "53f234d9424ea9c4142cd281232c2e587b7a4b132111aa2c7ba0387cf99fe021"
   }
  }
 },
 "nbformat": 4,
 "nbformat_minor": 2
}
